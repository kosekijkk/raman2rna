{
 "cells": [
  {
   "cell_type": "code",
   "execution_count": 1,
   "metadata": {
    "scrolled": true,
    "tags": []
   },
   "outputs": [],
   "source": [
    "import os\n",
    "import glob\n",
    "import shutil\n",
    "import tifffile as tf\n",
    "import matplotlib.pyplot as plt\n",
    "# import cv2\n",
    "import re\n",
    "import numpy as np\n",
    "from path import Path\n",
    "from tqdm import tqdm\n",
    "\n",
    "from aicsimageio.writers import OmeTiffWriter"
   ]
  },
  {
   "cell_type": "code",
   "execution_count": 2,
   "metadata": {},
   "outputs": [],
   "source": [
    "data_root = \"/home/kkobayas/koseki-data/Raman/data/HCR/\"\n",
    "save_root = \"/home/kkobayas/koseki-data/Raman/data/unet/fovs\""
   ]
  },
  {
   "cell_type": "code",
   "execution_count": 3,
   "metadata": {},
   "outputs": [],
   "source": [
    "def get_short_channels(c):\n",
    "    if c==\"647Nanog_546Col1a1_488Utf1\":\n",
    "        cs = \"Nanog_Col1a1_Utf1\"\n",
    "    elif c==\"647Krt7_564Peg10_488Bgn\":\n",
    "        cs = \"Krt7_Peg10_Bgn\"\n",
    "    elif c==\"647Fabp1_546Epcam_488Nnat\":\n",
    "        cs = \"Fabp7_Epcam_Nnat\"\n",
    "    return cs"
   ]
  },
  {
   "cell_type": "code",
   "execution_count": 4,
   "metadata": {},
   "outputs": [],
   "source": [
    "import javabridge as jb\n",
    "def init_logger():\n",
    "    \"\"\"This is so that Javabridge doesn't spill out a lot of DEBUG messages\n",
    "    during runtime.\n",
    "    From CellProfiler/python-bioformats.\n",
    "    \"\"\"\n",
    "    rootLoggerName = jb.get_static_field(\"org/slf4j/Logger\",\n",
    "                                         \"ROOT_LOGGER_NAME\",\n",
    "                                         \"Ljava/lang/String;\")\n",
    "\n",
    "    rootLogger = jb.static_call(\"org/slf4j/LoggerFactory\",\n",
    "                                \"getLogger\",\n",
    "                                \"(Ljava/lang/String;)Lorg/slf4j/Logger;\",\n",
    "                                rootLoggerName)\n",
    "\n",
    "    logLevel = jb.get_static_field(\"ch/qos/logback/classic/Level\",\n",
    "                                   \"WARN\",\n",
    "                                   \"Lch/qos/logback/classic/Level;\")\n",
    "\n",
    "    jb.call(rootLogger,\n",
    "            \"setLevel\",\n",
    "            \"(Lch/qos/logback/classic/Level;)V\",\n",
    "            logLevel)"
   ]
  },
  {
   "cell_type": "code",
   "execution_count": 5,
   "metadata": {},
   "outputs": [],
   "source": [
    "import bioformats as bf\n",
    "jb.start_vm(class_path=bf.JARS)\n",
    "init_logger()\n",
    "\n",
    "days = [\"D8\", \"D8.5\", \"D9\", \"D9.5\", \"D10\", \"D10.5\", \"D11\", \"D11.5\", \"D12\", \"D12.5\", \"D13\", \"D13.5\", \"D14\", \"D14.5\"]\n",
    "# rounds = [\"647Nanog_546Col1a1_488Utf1\", \"647Krt7_564Peg10_488Bgn\", \"647Fabp1_546Epcam_488Nnat\"]\n",
    "rounds = [\"647Fabp1_546Epcam_488Nnat\"]\n",
    "\n",
    "n_z = 11\n",
    "n_c = 5\n",
    "w = 2048\n",
    "h = 2048\n",
    "datatype = \"uint16\"\n",
    "\n",
    "expression = \"hcr_all_(.*)_F(?P<Pos>.*).ims\""
   ]
  },
  {
   "cell_type": "code",
   "execution_count": 10,
   "metadata": {
    "tags": []
   },
   "outputs": [
    {
     "name": "stderr",
     "output_type": "stream",
     "text": [
      "100%|███████████████████████████████████████████████████████████████████████████| 14/14 [2:00:44<00:00, 517.47s/it]\n"
     ]
    }
   ],
   "source": [
    "# %%capture\n",
    "for r in rounds:\n",
    "# for r in rounds:\n",
    "    for d in tqdm(days):\n",
    "        folder_path = os.path.join(data_root, d, r)\n",
    "\n",
    "#         print(\"day:\"+d+\" round:\"+r)\n",
    "\n",
    "        # search through files e.g. hcr_pos_all_Pos*.tif\n",
    "        for root, dirs, files in os.walk(folder_path):\n",
    "            for filename in files:\n",
    "                \n",
    "                p = re.compile(expression)\n",
    "                \n",
    "                m=p.match(filename)\n",
    "                if m != None:\n",
    "                    pos = m.group('Pos')\n",
    "                    pos = \"Pos\"+str(int(pos))\n",
    "                    if pos==\"Pos20\":\n",
    "                        pos=\"Bg\"\n",
    "                    \n",
    "                    file_path = os.path.join(folder_path, filename)\n",
    "                    \n",
    "                    # BF, 647, 564, 488, DAPI\n",
    "                    with bf.ImageReader(file_path) as reader:\n",
    "#                         reader = bf.ImageReader(path=file_path)                  \n",
    "\n",
    "                        cs = get_short_channels(r)\n",
    "                        fn = d+\"_\"+pos+\"_\"+cs+\".ome.tiff\"\n",
    "                        save_f = os.path.join(save_root,fn)\n",
    "\n",
    "                        # read tif z and c-stacks\n",
    "                        # then write ome-tiffs\n",
    "                        # STZCYX\n",
    "                        img = np.zeros((n_c,n_z,w,h),dtype=datatype)\n",
    "\n",
    "                        for z in range(n_z):\n",
    "                            for c in range(n_c):\n",
    "                                img[c,z,:,:] = reader.read(c=c,z=z, rescale=False)\n",
    "                                # bf.write_image(save_f, im, datatype,c=c,z=z,t=0,size_c=n_c,size_z=n_z)\n",
    "\n",
    "                    OmeTiffWriter.save(img, save_f, overwrite_file=True, dim_order='CZYX')\n",
    "                    \n",
    "#                     print(fn)\n",
    "jb.kill_vm()"
   ]
  },
  {
   "cell_type": "code",
   "execution_count": null,
   "metadata": {},
   "outputs": [],
   "source": []
  }
 ],
 "metadata": {
  "kernelspec": {
   "display_name": "unet",
   "language": "python",
   "name": "unet"
  },
  "language_info": {
   "codemirror_mode": {
    "name": "ipython",
    "version": 3
   },
   "file_extension": ".py",
   "mimetype": "text/x-python",
   "name": "python",
   "nbconvert_exporter": "python",
   "pygments_lexer": "ipython3",
   "version": "3.9.6"
  }
 },
 "nbformat": 4,
 "nbformat_minor": 4
}
