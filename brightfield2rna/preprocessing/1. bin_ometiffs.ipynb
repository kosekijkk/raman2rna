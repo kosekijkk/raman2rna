{
 "cells": [
  {
   "cell_type": "code",
   "execution_count": 1,
   "metadata": {},
   "outputs": [],
   "source": [
    "import sys\n",
    "sys.path.append('../../utils')\n",
    "import numpy as np \n",
    "import matplotlib.pyplot as plt\n",
    "import os\n",
    "from scipy import ndimage\n",
    "import skimage.measure as measure \n",
    "from tqdm import tqdm\n",
    "from skimage import color\n",
    "import seaborn as sns \n",
    "from natsort import natsorted\n",
    "import re\n",
    "import collections\n",
    "import pandas as pd\n",
    "from tqdm import tqdm\n",
    "\n",
    "import tifffile as tf\n",
    "from skimage.transform import downscale_local_mean\n",
    "\n",
    "from aicsimageio.writers import OmeTiffWriter"
   ]
  },
  {
   "cell_type": "code",
   "execution_count": 2,
   "metadata": {},
   "outputs": [],
   "source": [
    "'paths to directories'\n",
    "data_root = '/home/kkobayas/koseki-data/Raman/data/unet/fovs/'\n",
    "save_root = '/home/kkobayas/koseki-data/Raman/data/unet/fovs_bin4/'\n",
    "\n",
    "# BF channel\n",
    "bf_c = 0\n",
    "# Nanog channel\n",
    "# gene_c = 1\n",
    "# gene_name = 'Krt7'\n",
    "# gene channels\n",
    "# genes = {'Nanog':1, 'Col1a1':2, 'Utf1':3, 'Krt7':1, 'Peg10':2, 'Bgn':3, 'Fabp1':1, 'Epcam':2, 'Nnat':3}\n",
    "genes = {'Fabp7':1, 'Epcam':2, 'Nnat':3}\n",
    "\n",
    "bin_size = 4"
   ]
  },
  {
   "cell_type": "code",
   "execution_count": 3,
   "metadata": {
    "tags": []
   },
   "outputs": [
    {
     "name": "stderr",
     "output_type": "stream",
     "text": [
      "100%|████████████████████████████████████████████████████████████████████████████| 882/882 [29:50<00:00,  2.03s/it]\n",
      "100%|████████████████████████████████████████████████████████████████████████████| 882/882 [26:00<00:00,  1.77s/it]\n",
      "100%|████████████████████████████████████████████████████████████████████████████| 882/882 [26:00<00:00,  1.77s/it]\n"
     ]
    }
   ],
   "source": [
    "# D8_Pos6_Fabp7_Epcam_Nnat.ome.tiff\n",
    "expression = \"(?P<day_pos>D.*_Pos\\d*)_.*.ome.tiff\"\n",
    "\n",
    "# i=0\n",
    "\n",
    "for g in genes.keys():\n",
    "    for _,_,files in os.walk(data_root):\n",
    "        for file in tqdm(files):\n",
    "    #         i = i+1\n",
    "    #         if i<138:\n",
    "    #             continue\n",
    "    #         if (file==\"D8.5_Pos19_Nanog_Col1a1_Utf1.ome.tiff\") or (file==\"D14.5_Pos4_Nanog_Col1a1_Utf1.ome.tiff\") or (file==\"D13.5_Pos10_Nanog_Col1a1_Utf1.ome.tiff\") or (file==\"D10.5_Pos0_Nanog_Col1a1_Utf1.ome.tiff\"):\n",
    "\n",
    "            if file.find(g) != -1:\n",
    "#                 print(file)\n",
    "                fp = os.path.join(data_root, file)\n",
    "                img = tf.imread(fp)\n",
    "                img_bin = downscale_local_mean(img,(1,1,bin_size,bin_size))\n",
    "\n",
    "                p = re.compile(expression)\n",
    "\n",
    "                m=p.match(file)\n",
    "                if m != None:\n",
    "                    day_pos = m.group('day_pos')\n",
    "\n",
    "                    if not os.path.isdir(os.path.join(save_root, g)):\n",
    "                        os.mkdir(os.path.join(save_root, g))\n",
    "                    fn = day_pos+\"_\"+g+\".ome.tiff\"\n",
    "                    save_f = os.path.join(save_root,g,fn)\n",
    "\n",
    "                    OmeTiffWriter.save(img_bin[[bf_c, genes[g]],:,:,:], save_f, dim_order='CZYX')\n"
   ]
  },
  {
   "cell_type": "code",
   "execution_count": null,
   "metadata": {},
   "outputs": [],
   "source": []
  }
 ],
 "metadata": {
  "kernelspec": {
   "display_name": "unet",
   "language": "python",
   "name": "unet"
  },
  "language_info": {
   "codemirror_mode": {
    "name": "ipython",
    "version": 3
   },
   "file_extension": ".py",
   "mimetype": "text/x-python",
   "name": "python",
   "nbconvert_exporter": "python",
   "pygments_lexer": "ipython3",
   "version": "3.9.6"
  }
 },
 "nbformat": 4,
 "nbformat_minor": 4
}
