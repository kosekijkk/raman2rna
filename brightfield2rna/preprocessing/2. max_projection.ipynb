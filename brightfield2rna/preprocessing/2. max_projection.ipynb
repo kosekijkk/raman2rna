{
 "cells": [
  {
   "cell_type": "code",
   "execution_count": 1,
   "metadata": {},
   "outputs": [],
   "source": [
    "import sys\n",
    "import numpy as np \n",
    "import matplotlib.pyplot as plt\n",
    "import os\n",
    "from scipy import ndimage\n",
    "import skimage.measure as measure \n",
    "from tqdm import tqdm\n",
    "from skimage import color\n",
    "import seaborn as sns \n",
    "from natsort import natsorted\n",
    "import re\n",
    "import collections\n",
    "import pandas as pd\n",
    "\n",
    "import tifffile as tf\n",
    "from skimage.transform import downscale_local_mean\n",
    "\n",
    "from aicsimageio.writers import OmeTiffWriter"
   ]
  },
  {
   "cell_type": "code",
   "execution_count": 2,
   "metadata": {},
   "outputs": [],
   "source": [
    "'paths to directories'\n",
    "data_root = '/home/kkobayas/koseki-data/Raman/data/unet/fovs_bin4/'\n",
    "save_root = '/home/kkobayas/koseki-data/Raman/data/unet/fovs_bin4_mip/'\n",
    "\n",
    "# BF channel\n",
    "bf_c = 0\n",
    "# gene channels\n",
    "# genes = ['Nanog', 'Col1a1', 'Utf1', 'Krt7', 'Peg10', 'Bgn']\n",
    "genes = ['Nnat', 'Fabp7', 'Epcam']\n",
    "g_c = 1\n"
   ]
  },
  {
   "cell_type": "code",
   "execution_count": 4,
   "metadata": {},
   "outputs": [
    {
     "name": "stdout",
     "output_type": "stream",
     "text": [
      "Nnat\n"
     ]
    },
    {
     "name": "stderr",
     "output_type": "stream",
     "text": [
      "100%|████████████████████████████████████████████████████████████████████████████| 280/280 [03:44<00:00,  1.25it/s]\n"
     ]
    },
    {
     "name": "stdout",
     "output_type": "stream",
     "text": [
      "Fabp7\n"
     ]
    },
    {
     "name": "stderr",
     "output_type": "stream",
     "text": [
      "100%|████████████████████████████████████████████████████████████████████████████| 280/280 [04:36<00:00,  1.01it/s]\n"
     ]
    },
    {
     "name": "stdout",
     "output_type": "stream",
     "text": [
      "Epcam\n"
     ]
    },
    {
     "name": "stderr",
     "output_type": "stream",
     "text": [
      "100%|████████████████████████████████████████████████████████████████████████████| 280/280 [04:32<00:00,  1.03it/s]\n"
     ]
    }
   ],
   "source": [
    "'''max intensity projection'''\n",
    "# i=0\n",
    "for g in genes:\n",
    "    paths_list = os.listdir(os.path.join(data_root, g))\n",
    "\n",
    "    print(g)\n",
    "    for file in tqdm(paths_list):\n",
    "        fp = os.path.join(data_root, g, file)\n",
    "        img = tf.imread(fp)\n",
    "\n",
    "        if not os.path.isdir(os.path.join(save_root,g)):\n",
    "            os.mkdir(os.path.join(save_root,g))\n",
    "        \n",
    "        save_bf = os.path.join(save_root,g,'bf',file)\n",
    "        if not os.path.isdir(os.path.join(save_root,g,'bf')):\n",
    "            os.mkdir(os.path.join(save_root,g,'bf'))\n",
    "        \n",
    "        save_mip = os.path.join(save_root,g,'mip',file)\n",
    "        if not os.path.isdir(os.path.join(save_root,g,'mip')):\n",
    "            os.mkdir(os.path.join(save_root,g,'mip'))\n",
    "        \n",
    "        OmeTiffWriter.save(img[bf_c,:,:,:], save_bf, dim_order='ZYX')\n",
    "\n",
    "        img_mip = np.max(img, axis=1)\n",
    "        OmeTiffWriter.save(np.expand_dims(img_mip[g_c,:,:],0), save_mip, dim_order='ZYX')\n"
   ]
  },
  {
   "cell_type": "code",
   "execution_count": null,
   "metadata": {},
   "outputs": [],
   "source": []
  }
 ],
 "metadata": {
  "kernelspec": {
   "display_name": "unet",
   "language": "python",
   "name": "unet"
  },
  "language_info": {
   "codemirror_mode": {
    "name": "ipython",
    "version": 3
   },
   "file_extension": ".py",
   "mimetype": "text/x-python",
   "name": "python",
   "nbconvert_exporter": "python",
   "pygments_lexer": "ipython3",
   "version": "3.9.6"
  }
 },
 "nbformat": 4,
 "nbformat_minor": 4
}
