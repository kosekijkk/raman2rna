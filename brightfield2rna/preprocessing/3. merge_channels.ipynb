{
 "cells": [
  {
   "cell_type": "code",
   "execution_count": 1,
   "id": "0ab917a1-75ee-4774-8115-8e49c245c577",
   "metadata": {},
   "outputs": [],
   "source": [
    "import sys\n",
    "import numpy as np \n",
    "import matplotlib.pyplot as plt\n",
    "import os\n",
    "from scipy import ndimage\n",
    "import skimage.measure as measure \n",
    "from tqdm import tqdm\n",
    "from skimage import color\n",
    "import seaborn as sns \n",
    "from natsort import natsorted\n",
    "import re\n",
    "import collections\n",
    "import pandas as pd\n",
    "\n",
    "import tifffile as tf\n",
    "from skimage.transform import downscale_local_mean\n",
    "\n",
    "from aicsimageio.writers import OmeTiffWriter"
   ]
  },
  {
   "cell_type": "code",
   "execution_count": 2,
   "id": "4f290dd6-23ba-415e-9409-14d568b888bc",
   "metadata": {},
   "outputs": [],
   "source": [
    "'paths to directories'\n",
    "data_root = '/home/kkobayas/koseki-data/Raman/data/unet/fovs_bin4_mip/'\n",
    "save_root = '/home/kkobayas/koseki-data/Raman/data/unet/fovs_bin4_mip_merged/'\n",
    "\n",
    "# gene channels\n",
    "genes = ['Nanog', 'Col1a1', 'Utf1', 'Krt7', 'Peg10', 'Bgn', 'Nnat', 'Fabp7', 'Epcam']\n"
   ]
  },
  {
   "cell_type": "code",
   "execution_count": 20,
   "id": "d2fc0526-961b-47fe-83f4-9c19eb44f720",
   "metadata": {},
   "outputs": [
    {
     "name": "stderr",
     "output_type": "stream",
     "text": [
      "100%|████████████████████████████████████████████████████████████████████████████| 280/280 [13:25<00:00,  2.88s/it]\n"
     ]
    }
   ],
   "source": [
    "'''max intensity projection'''\n",
    "import re\n",
    "\n",
    "g0 = genes[0]\n",
    "bf_paths = os.listdir(os.path.join(data_root, g0, 'bf'))\n",
    "\n",
    "if not os.path.isdir(save_root):\n",
    "    os.mkdir(save_root)\n",
    "\n",
    "expression = '(?P<day_pos>D.*_Pos.*)_(?P<gene>.*).ome.tiff'\n",
    "for file in tqdm(bf_paths):\n",
    "    x = re.split(expression, file)\n",
    "    day_pos = x[1]\n",
    "   \n",
    "    # save brightfield in new folder\n",
    "    bf_fp = os.path.join(data_root, g0, 'bf', file)\n",
    "    bf = tf.imread(bf_fp)\n",
    "    \n",
    "    fn = day_pos +'.ome.tiff'\n",
    "    save_bf = os.path.join(save_root,'bf',fn)\n",
    "    if not os.path.isdir(os.path.join(save_root,'bf')):\n",
    "        os.mkdir(os.path.join(save_root,'bf'))\n",
    "        \n",
    "    OmeTiffWriter.save(bf, save_bf, dim_order='ZYX')\n",
    "    \n",
    "    mip = np.zeros((len(genes), bf.shape[1], bf.shape[2]))\n",
    "    \n",
    "    for i,g in enumerate(genes):\n",
    "#         print(g)\n",
    "        g_fn = '_'.join([day_pos, g])+'.ome.tiff'\n",
    "        \n",
    "        mip_fp = os.path.join(data_root, g, 'mip', g_fn)\n",
    "        mip[i,:,:] = tf.imread(mip_fpi)\n",
    "\n",
    "        save_mip = os.path.join(save_root,'mip',fn)\n",
    "        if not os.path.isdir(os.path.join(save_root,'mip')):\n",
    "            os.mkdir(os.path.join(save_root,'mip'))\n",
    " \n",
    "        OmeTiffWriter.save(mip, save_mip, dim_order='ZYX')"
   ]
  },
  {
   "cell_type": "code",
   "execution_count": null,
   "id": "867606ac-0467-4996-bef1-8b773c628927",
   "metadata": {},
   "outputs": [],
   "source": []
  }
 ],
 "metadata": {
  "kernelspec": {
   "display_name": "unet",
   "language": "python",
   "name": "unet"
  },
  "language_info": {
   "codemirror_mode": {
    "name": "ipython",
    "version": 3
   },
   "file_extension": ".py",
   "mimetype": "text/x-python",
   "name": "python",
   "nbconvert_exporter": "python",
   "pygments_lexer": "ipython3",
   "version": "3.9.6"
  }
 },
 "nbformat": 4,
 "nbformat_minor": 5
}
