{
 "cells": [
  {
   "cell_type": "markdown",
   "metadata": {},
   "source": [
    "# Moving reprogramming files "
   ]
  },
  {
   "cell_type": "code",
   "execution_count": 1,
   "metadata": {},
   "outputs": [],
   "source": [
    "import os\n",
    "import glob\n",
    "import shutil\n",
    "import tifffile as tf\n",
    "import collections\n",
    "import datetime"
   ]
  },
  {
   "cell_type": "markdown",
   "metadata": {},
   "source": [
    "## set directory paths"
   ]
  },
  {
   "cell_type": "code",
   "execution_count": 5,
   "metadata": {},
   "outputs": [],
   "source": [
    "cwd = os.getcwd()\n",
    "ome_dir = 'reprogramming_09_21_20'\n",
    "ome_dir_to_search = os.path.join(cwd, ome_dir)\n",
    "date = str(datetime.datetime.now().date())\n",
    "new_dir = 'raman_'+date"
   ]
  },
  {
   "cell_type": "markdown",
   "metadata": {},
   "source": [
    "## get ome.tiff files "
   ]
  },
  {
   "cell_type": "code",
   "execution_count": 3,
   "metadata": {},
   "outputs": [],
   "source": [
    "'get ome files'\n",
    "ome_files = []\n",
    "for root, dirs, files in os.walk(ome_dir_to_search):\n",
    "    for file in files:\n",
    "        if (file.endswith(\"ome.tif\") and 'Default' not in file and 'markers' not in file):\n",
    "            ome_files.append(os.path.join(root, file))\n",
    "        elif(file.endswith(\"ome.tif\") and 'Default' in file):\n",
    "            control_bf = os.path.join(root,file)"
   ]
  },
  {
   "cell_type": "markdown",
   "metadata": {},
   "source": [
    "## make directories for brightfield, gfp and dapi"
   ]
  },
  {
   "cell_type": "code",
   "execution_count": 4,
   "metadata": {},
   "outputs": [],
   "source": [
    "#make brightfied directories\n",
    "dst_bf = os.path.join(cwd,new_dir,'brightfield')\n",
    "os.makedirs(dst_bf)\n",
    "#make GFP directory\n",
    "dst_gfp = os.path.join(cwd,new_dir,'gfp')\n",
    "os.makedirs(dst_gfp)\n",
    "#make DAPI directory\n",
    "dst_ns = os.path.join(cwd,new_dir,'nuclei_stain')\n",
    "os.makedirs(dst_ns)\n",
    "#make HCR directory \n",
    "dst_hcr = os.path.join(cwd,new_dir,'hcr')\n",
    "os.makedirs(dst_hcr)"
   ]
  },
  {
   "cell_type": "markdown",
   "metadata": {},
   "source": [
    "## save brightfield(1st), dapi(3rd file which is clearest), gfp files(1st) "
   ]
  },
  {
   "cell_type": "code",
   "execution_count": 5,
   "metadata": {},
   "outputs": [
    {
     "name": "stderr",
     "output_type": "stream",
     "text": [
      "OME series: not an ome-tiff master file\n",
      "OME series: not an ome-tiff master file\n",
      "OME series: not an ome-tiff master file\n",
      "OME series: not an ome-tiff master file\n",
      "OME series: not an ome-tiff master file\n",
      "OME series: not an ome-tiff master file\n",
      "OME series: not an ome-tiff master file\n",
      "OME series: not an ome-tiff master file\n",
      "OME series: not an ome-tiff master file\n",
      "OME series: not an ome-tiff master file\n",
      "OME series: not an ome-tiff master file\n",
      "OME series: not an ome-tiff master file\n",
      "OME series: not an ome-tiff master file\n",
      "OME series: not an ome-tiff master file\n",
      "OME series: not an ome-tiff master file\n",
      "OME series: not an ome-tiff master file\n",
      "OME series: not an ome-tiff master file\n",
      "OME series: not an ome-tiff master file\n",
      "OME series: not an ome-tiff master file\n",
      "OME series: not an ome-tiff master file\n"
     ]
    },
    {
     "data": {
      "text/plain": [
       "'/Users/sgaddam/Desktop/raman-spectra/shreya/ips_mef_2/brightfield/control.tif'"
      ]
     },
     "execution_count": 5,
     "metadata": {},
     "output_type": "execute_result"
    }
   ],
   "source": [
    "# 'read ome files and split into BF and GFP files'\n",
    "for f in ome_files:\n",
    "    #Extract pos and ext and create filename\n",
    "    head,image = os.path.split(f)\n",
    "    pos,ext = os.path.splitext(image)\n",
    "    pos,_ = os.path.splitext(pos)\n",
    "    pos = pos.split('_')[6]\n",
    "    _,day = os.path.split(head)\n",
    "    #change to 5 for only BF_GFP images\n",
    "    tif_fn = '{}_{}{}'.format(day,pos,ext)\n",
    "    \n",
    "    #read ome file\n",
    "    bf_gfp = tf.imread(f)\n",
    "    #write bf file to disk\n",
    "    tf.imwrite(os.path.join(dst_bf,tif_fn),bf_gfp[0])\n",
    "\n",
    "    #write nuclei stain file to disk\n",
    "    tf.imwrite(os.path.join(dst_ns,tif_fn),bf_gfp[1])\n",
    "\n",
    "    #write gfp file to disk\n",
    "    tf.imwrite(os.path.join(dst_gfp,tif_fn),bf_gfp[2])\n",
    "    \n",
    "#control brightfield\n",
    "shutil.copy(control_bf, os.path.join(dst_bf, 'control.tif'))"
   ]
  },
  {
   "cell_type": "markdown",
   "metadata": {},
   "source": [
    "## get raman files"
   ]
  },
  {
   "cell_type": "code",
   "execution_count": 6,
   "metadata": {},
   "outputs": [],
   "source": [
    "raman_files = []\n",
    "for root, dirs, files in os.walk(ome_dir_to_search):\n",
    "    for file in files:\n",
    "        if file.endswith(\".dat\"):\n",
    "            raman_files.append(os.path.join(root, file))"
   ]
  },
  {
   "cell_type": "markdown",
   "metadata": {},
   "source": [
    "## make raman directory"
   ]
  },
  {
   "cell_type": "code",
   "execution_count": 7,
   "metadata": {},
   "outputs": [],
   "source": [
    "''' Make new directory to raman dat files '''\n",
    "dst_r = os.path.join(cwd,new_dir,'raman')\n",
    "os.mkdir(dst_r)"
   ]
  },
  {
   "cell_type": "markdown",
   "metadata": {},
   "source": [
    "## save raman files"
   ]
  },
  {
   "cell_type": "code",
   "execution_count": 8,
   "metadata": {},
   "outputs": [],
   "source": [
    "new_names=[]\n",
    "for src in raman_files:\n",
    "    if 'Beads' in src and '100' in src:\n",
    "        new_name = 'control.dat'\n",
    "    else:\n",
    "        # create new file name to avoid duplicates\n",
    "        head, image = os.path.split(src)\n",
    "        pos_head,ext = os.path.splitext(image)\n",
    "        pos = 'Pos'+pos_head.split('_')[3]\n",
    "        _,day = os.path.split(head)\n",
    "        new_name = '{}_{}{}'.format(day,pos, ext)\n",
    "    new_names.append(new_name)\n",
    "    # copy files to new directory root/data/nuclei_stain_images\n",
    "    shutil.copy(src, os.path.join(dst_r, new_name))"
   ]
  },
  {
   "cell_type": "markdown",
   "metadata": {},
   "source": [
    "## get hcr files"
   ]
  },
  {
   "cell_type": "code",
   "execution_count": null,
   "metadata": {},
   "outputs": [],
   "source": [
    "hcr_dir = 'raman_10_20_20/rna'\n",
    "hcr_dir_to_search = os.path.join(cwd, hcr_dir)"
   ]
  },
  {
   "cell_type": "code",
   "execution_count": null,
   "metadata": {},
   "outputs": [],
   "source": [
    "genes = ['Epcam','Nanog','Bgn','Col1a1','Krt7','Peg10','Utf1','Nnat','Fabp1']"
   ]
  },
  {
   "cell_type": "markdown",
   "metadata": {},
   "source": [
    "## save hcr files"
   ]
  },
  {
   "cell_type": "code",
   "execution_count": null,
   "metadata": {},
   "outputs": [],
   "source": [
    "#Split data into different directories for each gene \n",
    "for gene in genes:\n",
    "    hcr_files = []\n",
    "    for root,dirs,files in os.walk(hcr_dir_to_search):\n",
    "        for file in files:\n",
    "            if gene in file:\n",
    "                hcr_files.append(os.path.join(root, file))\n",
    "\n",
    "    #Create separate directory for each gene \n",
    "    dst_gene = os.path.join(cwd,new_dir,'hcr',gene)\n",
    "    os.mkdir(dst_gene) \n",
    "    #rename and copy to respective folder\n",
    "    for src in hcr_files:\n",
    "        head, image = os.path.split(src)\n",
    "        head, ext = os.path.splitext(image)\n",
    "        fn = '_'.join(head.split('_')[:-1])\n",
    "        new_name = '{}{}'.format(fn,ext)\n",
    "        shutil.copy(src, os.path.join(dst_gene, new_name))"
   ]
  }
 ],
 "metadata": {
  "kernelspec": {
   "display_name": "Python 3",
   "language": "python",
   "name": "python3"
  },
  "language_info": {
   "codemirror_mode": {
    "name": "ipython",
    "version": 3
   },
   "file_extension": ".py",
   "mimetype": "text/x-python",
   "name": "python",
   "nbconvert_exporter": "python",
   "pygments_lexer": "ipython3",
   "version": "3.7.8"
  }
 },
 "nbformat": 4,
 "nbformat_minor": 4
}
